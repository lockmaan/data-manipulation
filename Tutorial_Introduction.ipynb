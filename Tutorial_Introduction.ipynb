{
 "cells": [
  {
   "cell_type": "markdown",
   "id": "4ab9ec2d",
   "metadata": {},
   "source": [
    "## hello ors club\n"
   ]
  },
  {
   "cell_type": "markdown",
   "id": "605f9d34",
   "metadata": {},
   "source": [
    "## DATA manipulation \n",
    "### using pandas"
   ]
  },
  {
   "cell_type": "markdown",
   "id": "8a9f9fa0",
   "metadata": {},
   "source": [
    "# Introduction:"
   ]
  },
  {
   "cell_type": "markdown",
   "id": "5995157f",
   "metadata": {},
   "source": [
    "pandas is a fast, powerful, flexible and easy to use open source data analysis and manipulation tool,\n",
    "built on top of the <font color=\"pink\">Python</font> programming language.  <font color=\"pink\">(based on numpy)</font> [link to documentation](https://pandas.pydata.org/docs/user_guide/index.html)"
   ]
  },
  {
   "cell_type": "code",
   "execution_count": 2,
   "id": "bfc6f619",
   "metadata": {},
   "outputs": [],
   "source": [
    "\"\"\"if you don't have the librarry installed then \n",
    "`pip install pandas` before you import           \"\"\"\n",
    "import pandas as pd"
   ]
  },
  {
   "cell_type": "code",
   "execution_count": 3,
   "id": "74ad1cc3",
   "metadata": {},
   "outputs": [],
   "source": [
    "data = {'stats':['strength','speed','height','weight'],\n",
    "        'classmate1':[95,90,90,1],\n",
    "        'classmate2':[66,23,50,99],\n",
    "        'classmate3':[85,60,99,44],\n",
    "        'classmate4':[1,99,99,99]\n",
    "}"
   ]
  },
  {
   "cell_type": "markdown",
   "id": "c69b1e36",
   "metadata": {},
   "source": [
    "#### loading your data frame:\n",
    "the data may come from various sources usually from either excel files <font color=\"green\">xslx </font> format or \"Comma-separated values\" files <font color=\"orange\">csv </font>which happen to be our focus today but first let's just play arround with this dictionnary called <font color=\"orange\">data</font>."
   ]
  },
  {
   "cell_type": "code",
   "execution_count": 40,
   "id": "448e49ac",
   "metadata": {},
   "outputs": [
    {
     "data": {
      "text/html": [
       "<div>\n",
       "<style scoped>\n",
       "    .dataframe tbody tr th:only-of-type {\n",
       "        vertical-align: middle;\n",
       "    }\n",
       "\n",
       "    .dataframe tbody tr th {\n",
       "        vertical-align: top;\n",
       "    }\n",
       "\n",
       "    .dataframe thead th {\n",
       "        text-align: right;\n",
       "    }\n",
       "</style>\n",
       "<table border=\"1\" class=\"dataframe\">\n",
       "  <thead>\n",
       "    <tr style=\"text-align: right;\">\n",
       "      <th></th>\n",
       "      <th>stats</th>\n",
       "      <th>classmate1</th>\n",
       "      <th>classmate2</th>\n",
       "      <th>classmate3</th>\n",
       "      <th>classmate4</th>\n",
       "    </tr>\n",
       "  </thead>\n",
       "  <tbody>\n",
       "    <tr>\n",
       "      <th>0</th>\n",
       "      <td>strength</td>\n",
       "      <td>95</td>\n",
       "      <td>66</td>\n",
       "      <td>85</td>\n",
       "      <td>1</td>\n",
       "    </tr>\n",
       "    <tr>\n",
       "      <th>1</th>\n",
       "      <td>speed</td>\n",
       "      <td>90</td>\n",
       "      <td>23</td>\n",
       "      <td>60</td>\n",
       "      <td>99</td>\n",
       "    </tr>\n",
       "    <tr>\n",
       "      <th>2</th>\n",
       "      <td>height</td>\n",
       "      <td>90</td>\n",
       "      <td>50</td>\n",
       "      <td>99</td>\n",
       "      <td>99</td>\n",
       "    </tr>\n",
       "    <tr>\n",
       "      <th>3</th>\n",
       "      <td>weight</td>\n",
       "      <td>1</td>\n",
       "      <td>99</td>\n",
       "      <td>44</td>\n",
       "      <td>99</td>\n",
       "    </tr>\n",
       "  </tbody>\n",
       "</table>\n",
       "</div>"
      ],
      "text/plain": [
       "      stats  classmate1  classmate2  classmate3  classmate4\n",
       "0  strength          95          66          85           1\n",
       "1     speed          90          23          60          99\n",
       "2    height          90          50          99          99\n",
       "3    weight           1          99          44          99"
      ]
     },
     "execution_count": 40,
     "metadata": {},
     "output_type": "execute_result"
    }
   ],
   "source": [
    "df = pd.DataFrame.from_dict(data)\n",
    "#df is short for data frame, i'll be calling it so for the rest of the workshop\n",
    "df"
   ]
  },
  {
   "cell_type": "code",
   "execution_count": 15,
   "id": "be52e755",
   "metadata": {},
   "outputs": [
    {
     "data": {
      "text/plain": [
       "0    strength\n",
       "1       speed\n",
       "2      height\n",
       "3      weight\n",
       "Name: stats, dtype: object"
      ]
     },
     "execution_count": 15,
     "metadata": {},
     "output_type": "execute_result"
    }
   ],
   "source": [
    "# column selector \n",
    "df['stats']"
   ]
  },
  {
   "cell_type": "markdown",
   "id": "1502ba05",
   "metadata": {},
   "source": [
    "##### <font color=\"grey\">DataFrame</font>Selection<font color=\"pink\">*Property*</font>\n",
    "\n",
    "you can also use the property displayed above to asign new columns"
   ]
  },
  {
   "cell_type": "code",
   "execution_count": 41,
   "id": "5906a523",
   "metadata": {},
   "outputs": [
    {
     "data": {
      "text/html": [
       "<div>\n",
       "<style scoped>\n",
       "    .dataframe tbody tr th:only-of-type {\n",
       "        vertical-align: middle;\n",
       "    }\n",
       "\n",
       "    .dataframe tbody tr th {\n",
       "        vertical-align: top;\n",
       "    }\n",
       "\n",
       "    .dataframe thead th {\n",
       "        text-align: right;\n",
       "    }\n",
       "</style>\n",
       "<table border=\"1\" class=\"dataframe\">\n",
       "  <thead>\n",
       "    <tr style=\"text-align: right;\">\n",
       "      <th></th>\n",
       "      <th>stats</th>\n",
       "      <th>classmate1</th>\n",
       "      <th>classmate2</th>\n",
       "      <th>classmate3</th>\n",
       "      <th>classmate4</th>\n",
       "      <th>somebody</th>\n",
       "    </tr>\n",
       "  </thead>\n",
       "  <tbody>\n",
       "    <tr>\n",
       "      <th>0</th>\n",
       "      <td>strength</td>\n",
       "      <td>95</td>\n",
       "      <td>66</td>\n",
       "      <td>85</td>\n",
       "      <td>1</td>\n",
       "      <td>50</td>\n",
       "    </tr>\n",
       "    <tr>\n",
       "      <th>1</th>\n",
       "      <td>speed</td>\n",
       "      <td>90</td>\n",
       "      <td>23</td>\n",
       "      <td>60</td>\n",
       "      <td>99</td>\n",
       "      <td>1</td>\n",
       "    </tr>\n",
       "    <tr>\n",
       "      <th>2</th>\n",
       "      <td>height</td>\n",
       "      <td>90</td>\n",
       "      <td>50</td>\n",
       "      <td>99</td>\n",
       "      <td>99</td>\n",
       "      <td>56</td>\n",
       "    </tr>\n",
       "    <tr>\n",
       "      <th>3</th>\n",
       "      <td>weight</td>\n",
       "      <td>1</td>\n",
       "      <td>99</td>\n",
       "      <td>44</td>\n",
       "      <td>99</td>\n",
       "      <td>99</td>\n",
       "    </tr>\n",
       "  </tbody>\n",
       "</table>\n",
       "</div>"
      ],
      "text/plain": [
       "      stats  classmate1  classmate2  classmate3  classmate4  somebody\n",
       "0  strength          95          66          85           1        50\n",
       "1     speed          90          23          60          99         1\n",
       "2    height          90          50          99          99        56\n",
       "3    weight           1          99          44          99        99"
      ]
     },
     "execution_count": 41,
     "metadata": {},
     "output_type": "execute_result"
    }
   ],
   "source": [
    "df['somebody']= [50,1,56,99]\n",
    "df"
   ]
  },
  {
   "cell_type": "markdown",
   "id": "e244f64f",
   "metadata": {},
   "source": [
    "###### <font color=\"grey\">DataFrame</font>.index <font color=\"pink\">*Property*</font>\n",
    "row labels \"names\" of each row\n",
    "\n",
    "###### <font color=\"grey\">DataFrame</font>.columns <font color=\"pink\">*Property*</font>\n",
    "column labels"
   ]
  },
  {
   "cell_type": "code",
   "execution_count": 5,
   "id": "26b33dd7",
   "metadata": {},
   "outputs": [
    {
     "data": {
      "text/plain": [
       "RangeIndex(start=0, stop=4, step=1)"
      ]
     },
     "execution_count": 5,
     "metadata": {},
     "output_type": "execute_result"
    }
   ],
   "source": [
    "df.index"
   ]
  },
  {
   "cell_type": "code",
   "execution_count": 19,
   "id": "a3ff389a",
   "metadata": {},
   "outputs": [
    {
     "data": {
      "text/plain": [
       "Index(['stats', 'classmate1', 'classmate2', 'classmate3', 'classmate4',\n",
       "       'somebody'],\n",
       "      dtype='object')"
      ]
     },
     "execution_count": 19,
     "metadata": {},
     "output_type": "execute_result"
    }
   ],
   "source": [
    "df.columns"
   ]
  },
  {
   "cell_type": "markdown",
   "id": "cd905eb2",
   "metadata": {},
   "source": [
    "##### <font color=\"grey\">DataFrame</font>.iloc[  ] <font color=\"pink\">*Property*</font>\n",
    "\n",
    "\n",
    "Purely integer-location based indexing for selection by position.\n",
    "or in other words , select elements by column and line indexes.\n",
    "\n",
    "iloc[line index,column index]"
   ]
  },
  {
   "cell_type": "code",
   "execution_count": 20,
   "id": "6f279ba4",
   "metadata": {},
   "outputs": [
    {
     "data": {
      "text/plain": [
       "stats         height\n",
       "classmate1        90\n",
       "classmate2        50\n",
       "classmate3        99\n",
       "classmate4        99\n",
       "somebody          56\n",
       "Name: 2, dtype: object"
      ]
     },
     "execution_count": 20,
     "metadata": {},
     "output_type": "execute_result"
    }
   ],
   "source": [
    "df.iloc[2]\n",
    "#gives the third line counting from 0"
   ]
  },
  {
   "cell_type": "code",
   "execution_count": 25,
   "id": "f7a3ee68",
   "metadata": {},
   "outputs": [
    {
     "data": {
      "text/plain": [
       "0    66\n",
       "1    23\n",
       "2    50\n",
       "3    99\n",
       "Name: classmate2, dtype: int64"
      ]
     },
     "execution_count": 25,
     "metadata": {},
     "output_type": "execute_result"
    }
   ],
   "source": [
    "df.iloc[:,2]   \n",
    "#gives the second column //counting from 0"
   ]
  },
  {
   "cell_type": "code",
   "execution_count": 22,
   "id": "2d50fdfc",
   "metadata": {},
   "outputs": [
    {
     "data": {
      "text/plain": [
       "90"
      ]
     },
     "execution_count": 22,
     "metadata": {},
     "output_type": "execute_result"
    }
   ],
   "source": [
    "df.iloc[2,1]\n",
    "#gives the specific element"
   ]
  },
  {
   "cell_type": "markdown",
   "id": "afab2341",
   "metadata": {},
   "source": [
    "##### <font color=\"grey\">DataFrame</font>.loc[  ] <font color=\"pink\">*Property*</font>\n",
    "\n",
    "\n",
    "is primarily label based, but may also be used with a boolean array.\n",
    "or in other words , uses the names of the collumns.\n",
    "\n",
    "loc[line label,column label]"
   ]
  },
  {
   "cell_type": "code",
   "execution_count": 23,
   "id": "da95a12b",
   "metadata": {},
   "outputs": [
    {
     "data": {
      "text/plain": [
       "0    85\n",
       "1    60\n",
       "2    99\n",
       "3    44\n",
       "Name: classmate3, dtype: int64"
      ]
     },
     "execution_count": 23,
     "metadata": {},
     "output_type": "execute_result"
    }
   ],
   "source": [
    "df.loc[:,\"classmate3\"]\n",
    "#returns the column of the 3rd classmate (4th column)"
   ]
  },
  {
   "cell_type": "code",
   "execution_count": 28,
   "id": "507469f6",
   "metadata": {},
   "outputs": [
    {
     "data": {
      "text/plain": [
       "stats         speed\n",
       "classmate1       90\n",
       "classmate2       23\n",
       "classmate3       60\n",
       "classmate4       99\n",
       "somebody          1\n",
       "Name: 1, dtype: object"
      ]
     },
     "execution_count": 28,
     "metadata": {},
     "output_type": "execute_result"
    }
   ],
   "source": [
    "#to Note: the label for indexes is still a number unless you change it yourself\n",
    "df.loc[1]\n",
    "# this returns the second line (speed line)"
   ]
  },
  {
   "cell_type": "code",
   "execution_count": 29,
   "id": "86f606bf",
   "metadata": {},
   "outputs": [
    {
     "data": {
      "text/plain": [
       "60"
      ]
     },
     "execution_count": 29,
     "metadata": {},
     "output_type": "execute_result"
    }
   ],
   "source": [
    "#and lastly you can do the same as iloc and double index\n",
    "df.loc[1,\"classmate3\"]"
   ]
  },
  {
   "cell_type": "markdown",
   "id": "8ddc8614",
   "metadata": {},
   "source": [
    "##### <font color=\"grey\">DataFrame</font>.describe( ) \n",
    "\n",
    "\n",
    "Generate descriptive statistics.\n",
    "\n",
    "Descriptive statistics include those that summarize the central tendency, dispersion and shape of a dataset’s distribution, excluding NaN values.\n",
    "\n",
    "Analyzes both numeric and object series, as well as DataFrame column sets of mixed data types. The output will vary depending on what is provided. Refer to the notes below for more detail.\n",
    "\n",
    ".describe()"
   ]
  },
  {
   "cell_type": "code",
   "execution_count": 30,
   "id": "a9ea05fd",
   "metadata": {},
   "outputs": [
    {
     "data": {
      "text/html": [
       "<div>\n",
       "<style scoped>\n",
       "    .dataframe tbody tr th:only-of-type {\n",
       "        vertical-align: middle;\n",
       "    }\n",
       "\n",
       "    .dataframe tbody tr th {\n",
       "        vertical-align: top;\n",
       "    }\n",
       "\n",
       "    .dataframe thead th {\n",
       "        text-align: right;\n",
       "    }\n",
       "</style>\n",
       "<table border=\"1\" class=\"dataframe\">\n",
       "  <thead>\n",
       "    <tr style=\"text-align: right;\">\n",
       "      <th></th>\n",
       "      <th>classmate1</th>\n",
       "      <th>classmate2</th>\n",
       "      <th>classmate3</th>\n",
       "      <th>classmate4</th>\n",
       "      <th>somebody</th>\n",
       "    </tr>\n",
       "  </thead>\n",
       "  <tbody>\n",
       "    <tr>\n",
       "      <th>count</th>\n",
       "      <td>4.000000</td>\n",
       "      <td>4.000000</td>\n",
       "      <td>4.000000</td>\n",
       "      <td>4.0</td>\n",
       "      <td>4.000000</td>\n",
       "    </tr>\n",
       "    <tr>\n",
       "      <th>mean</th>\n",
       "      <td>69.000000</td>\n",
       "      <td>59.500000</td>\n",
       "      <td>72.000000</td>\n",
       "      <td>74.5</td>\n",
       "      <td>51.500000</td>\n",
       "    </tr>\n",
       "    <tr>\n",
       "      <th>std</th>\n",
       "      <td>45.394566</td>\n",
       "      <td>31.754265</td>\n",
       "      <td>24.671171</td>\n",
       "      <td>49.0</td>\n",
       "      <td>40.120651</td>\n",
       "    </tr>\n",
       "    <tr>\n",
       "      <th>min</th>\n",
       "      <td>1.000000</td>\n",
       "      <td>23.000000</td>\n",
       "      <td>44.000000</td>\n",
       "      <td>1.0</td>\n",
       "      <td>1.000000</td>\n",
       "    </tr>\n",
       "    <tr>\n",
       "      <th>25%</th>\n",
       "      <td>67.750000</td>\n",
       "      <td>43.250000</td>\n",
       "      <td>56.000000</td>\n",
       "      <td>74.5</td>\n",
       "      <td>37.750000</td>\n",
       "    </tr>\n",
       "    <tr>\n",
       "      <th>50%</th>\n",
       "      <td>90.000000</td>\n",
       "      <td>58.000000</td>\n",
       "      <td>72.500000</td>\n",
       "      <td>99.0</td>\n",
       "      <td>53.000000</td>\n",
       "    </tr>\n",
       "    <tr>\n",
       "      <th>75%</th>\n",
       "      <td>91.250000</td>\n",
       "      <td>74.250000</td>\n",
       "      <td>88.500000</td>\n",
       "      <td>99.0</td>\n",
       "      <td>66.750000</td>\n",
       "    </tr>\n",
       "    <tr>\n",
       "      <th>max</th>\n",
       "      <td>95.000000</td>\n",
       "      <td>99.000000</td>\n",
       "      <td>99.000000</td>\n",
       "      <td>99.0</td>\n",
       "      <td>99.000000</td>\n",
       "    </tr>\n",
       "  </tbody>\n",
       "</table>\n",
       "</div>"
      ],
      "text/plain": [
       "       classmate1  classmate2  classmate3  classmate4   somebody\n",
       "count    4.000000    4.000000    4.000000         4.0   4.000000\n",
       "mean    69.000000   59.500000   72.000000        74.5  51.500000\n",
       "std     45.394566   31.754265   24.671171        49.0  40.120651\n",
       "min      1.000000   23.000000   44.000000         1.0   1.000000\n",
       "25%     67.750000   43.250000   56.000000        74.5  37.750000\n",
       "50%     90.000000   58.000000   72.500000        99.0  53.000000\n",
       "75%     91.250000   74.250000   88.500000        99.0  66.750000\n",
       "max     95.000000   99.000000   99.000000        99.0  99.000000"
      ]
     },
     "execution_count": 30,
     "metadata": {},
     "output_type": "execute_result"
    }
   ],
   "source": [
    "df.describe()\n",
    "#this one is self explanatory "
   ]
  },
  {
   "cell_type": "markdown",
   "id": "3cae5aef",
   "metadata": {},
   "source": [
    "##### <font color=\"grey\">DataFrame</font>.T <font color=\"pink\">*Property*</font>\n",
    "\n",
    "\n",
    "gives the transposition of the Data frame.\n",
    "\n",
    ".T"
   ]
  },
  {
   "cell_type": "code",
   "execution_count": 31,
   "id": "0a7d1b53",
   "metadata": {},
   "outputs": [
    {
     "data": {
      "text/html": [
       "<div>\n",
       "<style scoped>\n",
       "    .dataframe tbody tr th:only-of-type {\n",
       "        vertical-align: middle;\n",
       "    }\n",
       "\n",
       "    .dataframe tbody tr th {\n",
       "        vertical-align: top;\n",
       "    }\n",
       "\n",
       "    .dataframe thead th {\n",
       "        text-align: right;\n",
       "    }\n",
       "</style>\n",
       "<table border=\"1\" class=\"dataframe\">\n",
       "  <thead>\n",
       "    <tr style=\"text-align: right;\">\n",
       "      <th></th>\n",
       "      <th>0</th>\n",
       "      <th>1</th>\n",
       "      <th>2</th>\n",
       "      <th>3</th>\n",
       "    </tr>\n",
       "  </thead>\n",
       "  <tbody>\n",
       "    <tr>\n",
       "      <th>stats</th>\n",
       "      <td>strength</td>\n",
       "      <td>speed</td>\n",
       "      <td>height</td>\n",
       "      <td>weight</td>\n",
       "    </tr>\n",
       "    <tr>\n",
       "      <th>classmate1</th>\n",
       "      <td>95</td>\n",
       "      <td>90</td>\n",
       "      <td>90</td>\n",
       "      <td>1</td>\n",
       "    </tr>\n",
       "    <tr>\n",
       "      <th>classmate2</th>\n",
       "      <td>66</td>\n",
       "      <td>23</td>\n",
       "      <td>50</td>\n",
       "      <td>99</td>\n",
       "    </tr>\n",
       "    <tr>\n",
       "      <th>classmate3</th>\n",
       "      <td>85</td>\n",
       "      <td>60</td>\n",
       "      <td>99</td>\n",
       "      <td>44</td>\n",
       "    </tr>\n",
       "    <tr>\n",
       "      <th>classmate4</th>\n",
       "      <td>1</td>\n",
       "      <td>99</td>\n",
       "      <td>99</td>\n",
       "      <td>99</td>\n",
       "    </tr>\n",
       "    <tr>\n",
       "      <th>somebody</th>\n",
       "      <td>50</td>\n",
       "      <td>1</td>\n",
       "      <td>56</td>\n",
       "      <td>99</td>\n",
       "    </tr>\n",
       "  </tbody>\n",
       "</table>\n",
       "</div>"
      ],
      "text/plain": [
       "                   0      1       2       3\n",
       "stats       strength  speed  height  weight\n",
       "classmate1        95     90      90       1\n",
       "classmate2        66     23      50      99\n",
       "classmate3        85     60      99      44\n",
       "classmate4         1     99      99      99\n",
       "somebody          50      1      56      99"
      ]
     },
     "execution_count": 31,
     "metadata": {},
     "output_type": "execute_result"
    }
   ],
   "source": [
    "df.T"
   ]
  },
  {
   "cell_type": "code",
   "execution_count": 42,
   "id": "d75ed352",
   "metadata": {},
   "outputs": [
    {
     "data": {
      "text/html": [
       "<div>\n",
       "<style scoped>\n",
       "    .dataframe tbody tr th:only-of-type {\n",
       "        vertical-align: middle;\n",
       "    }\n",
       "\n",
       "    .dataframe tbody tr th {\n",
       "        vertical-align: top;\n",
       "    }\n",
       "\n",
       "    .dataframe thead th {\n",
       "        text-align: right;\n",
       "    }\n",
       "</style>\n",
       "<table border=\"1\" class=\"dataframe\">\n",
       "  <thead>\n",
       "    <tr style=\"text-align: right;\">\n",
       "      <th></th>\n",
       "      <th>stats</th>\n",
       "      <th>classmate2</th>\n",
       "      <th>classmate3</th>\n",
       "      <th>classmate4</th>\n",
       "      <th>somebody</th>\n",
       "    </tr>\n",
       "  </thead>\n",
       "  <tbody>\n",
       "    <tr>\n",
       "      <th>0</th>\n",
       "      <td>strength</td>\n",
       "      <td>66</td>\n",
       "      <td>85</td>\n",
       "      <td>1</td>\n",
       "      <td>50</td>\n",
       "    </tr>\n",
       "    <tr>\n",
       "      <th>1</th>\n",
       "      <td>speed</td>\n",
       "      <td>23</td>\n",
       "      <td>60</td>\n",
       "      <td>99</td>\n",
       "      <td>1</td>\n",
       "    </tr>\n",
       "    <tr>\n",
       "      <th>2</th>\n",
       "      <td>height</td>\n",
       "      <td>50</td>\n",
       "      <td>99</td>\n",
       "      <td>99</td>\n",
       "      <td>56</td>\n",
       "    </tr>\n",
       "    <tr>\n",
       "      <th>3</th>\n",
       "      <td>weight</td>\n",
       "      <td>99</td>\n",
       "      <td>44</td>\n",
       "      <td>99</td>\n",
       "      <td>99</td>\n",
       "    </tr>\n",
       "  </tbody>\n",
       "</table>\n",
       "</div>"
      ],
      "text/plain": [
       "      stats  classmate2  classmate3  classmate4  somebody\n",
       "0  strength          66          85           1        50\n",
       "1     speed          23          60          99         1\n",
       "2    height          50          99          99        56\n",
       "3    weight          99          44          99        99"
      ]
     },
     "execution_count": 42,
     "metadata": {},
     "output_type": "execute_result"
    }
   ],
   "source": [
    "df = df.drop('classmate1',axis=1)\n",
    "#give back the df without said column\n",
    "df"
   ]
  },
  {
   "cell_type": "code",
   "execution_count": 43,
   "id": "c55ecf00",
   "metadata": {},
   "outputs": [
    {
     "data": {
      "text/html": [
       "<div>\n",
       "<style scoped>\n",
       "    .dataframe tbody tr th:only-of-type {\n",
       "        vertical-align: middle;\n",
       "    }\n",
       "\n",
       "    .dataframe tbody tr th {\n",
       "        vertical-align: top;\n",
       "    }\n",
       "\n",
       "    .dataframe thead th {\n",
       "        text-align: right;\n",
       "    }\n",
       "</style>\n",
       "<table border=\"1\" class=\"dataframe\">\n",
       "  <thead>\n",
       "    <tr style=\"text-align: right;\">\n",
       "      <th></th>\n",
       "      <th>stats</th>\n",
       "      <th>classmate2</th>\n",
       "      <th>classmate3</th>\n",
       "      <th>classmate4</th>\n",
       "      <th>somebody</th>\n",
       "    </tr>\n",
       "  </thead>\n",
       "  <tbody>\n",
       "    <tr>\n",
       "      <th>0</th>\n",
       "      <td>strength</td>\n",
       "      <td>66</td>\n",
       "      <td>85</td>\n",
       "      <td>1</td>\n",
       "      <td>50</td>\n",
       "    </tr>\n",
       "    <tr>\n",
       "      <th>1</th>\n",
       "      <td>speed</td>\n",
       "      <td>23</td>\n",
       "      <td>60</td>\n",
       "      <td>99</td>\n",
       "      <td>1</td>\n",
       "    </tr>\n",
       "    <tr>\n",
       "      <th>2</th>\n",
       "      <td>height</td>\n",
       "      <td>50</td>\n",
       "      <td>99</td>\n",
       "      <td>99</td>\n",
       "      <td>56</td>\n",
       "    </tr>\n",
       "  </tbody>\n",
       "</table>\n",
       "</div>"
      ],
      "text/plain": [
       "      stats  classmate2  classmate3  classmate4  somebody\n",
       "0  strength          66          85           1        50\n",
       "1     speed          23          60          99         1\n",
       "2    height          50          99          99        56"
      ]
     },
     "execution_count": 43,
     "metadata": {},
     "output_type": "execute_result"
    }
   ],
   "source": [
    "df.drop(3)\n",
    "#give back the df without said line"
   ]
  },
  {
   "cell_type": "code",
   "execution_count": 44,
   "id": "ea7c955d",
   "metadata": {},
   "outputs": [
    {
     "data": {
      "text/html": [
       "<div>\n",
       "<style scoped>\n",
       "    .dataframe tbody tr th:only-of-type {\n",
       "        vertical-align: middle;\n",
       "    }\n",
       "\n",
       "    .dataframe tbody tr th {\n",
       "        vertical-align: top;\n",
       "    }\n",
       "\n",
       "    .dataframe thead th {\n",
       "        text-align: right;\n",
       "    }\n",
       "</style>\n",
       "<table border=\"1\" class=\"dataframe\">\n",
       "  <thead>\n",
       "    <tr style=\"text-align: right;\">\n",
       "      <th></th>\n",
       "      <th>stats</th>\n",
       "      <th>classmate2</th>\n",
       "      <th>classmate3</th>\n",
       "      <th>classmate4</th>\n",
       "      <th>somebody</th>\n",
       "    </tr>\n",
       "  </thead>\n",
       "  <tbody>\n",
       "    <tr>\n",
       "      <th>0</th>\n",
       "      <td>strength</td>\n",
       "      <td>66</td>\n",
       "      <td>85</td>\n",
       "      <td>1</td>\n",
       "      <td>50</td>\n",
       "    </tr>\n",
       "    <tr>\n",
       "      <th>1</th>\n",
       "      <td>speed</td>\n",
       "      <td>23</td>\n",
       "      <td>60</td>\n",
       "      <td>99</td>\n",
       "      <td>1</td>\n",
       "    </tr>\n",
       "    <tr>\n",
       "      <th>2</th>\n",
       "      <td>height</td>\n",
       "      <td>50</td>\n",
       "      <td>99</td>\n",
       "      <td>99</td>\n",
       "      <td>56</td>\n",
       "    </tr>\n",
       "    <tr>\n",
       "      <th>3</th>\n",
       "      <td>weight</td>\n",
       "      <td>99</td>\n",
       "      <td>44</td>\n",
       "      <td>99</td>\n",
       "      <td>99</td>\n",
       "    </tr>\n",
       "  </tbody>\n",
       "</table>\n",
       "</div>"
      ],
      "text/plain": [
       "      stats  classmate2  classmate3  classmate4  somebody\n",
       "0  strength          66          85           1        50\n",
       "1     speed          23          60          99         1\n",
       "2    height          50          99          99        56\n",
       "3    weight          99          44          99        99"
      ]
     },
     "execution_count": 44,
     "metadata": {},
     "output_type": "execute_result"
    }
   ],
   "source": [
    "# as you can see the df itself didn't change tho \n",
    "df\n",
    "#so in order to change it you must sign the outcome of the functions above"
   ]
  },
  {
   "cell_type": "code",
   "execution_count": 45,
   "id": "41d56154",
   "metadata": {},
   "outputs": [],
   "source": [
    "df = df.drop(3)\n",
    "# and yay now are df is no longer fat phobic (bad joke i know)"
   ]
  },
  {
   "cell_type": "code",
   "execution_count": 7,
   "id": "86ecb5fa",
   "metadata": {},
   "outputs": [
    {
     "name": "stdout",
     "output_type": "stream",
     "text": [
      "Requirement already satisfied: pandas in c:\\users\\asus\\appdata\\local\\programs\\python\\python310\\lib\\site-packages (1.3.4)Note: you may need to restart the kernel to use updated packages.\n"
     ]
    },
    {
     "name": "stderr",
     "output_type": "stream",
     "text": [
      "WARNING: You are using pip version 22.0.3; however, version 22.0.4 is available.\n",
      "You should consider upgrading via the 'C:\\Users\\ASUS\\AppData\\Local\\Programs\\Python\\Python310\\python.exe -m pip install --upgrade pip' command.\n"
     ]
    },
    {
     "name": "stdout",
     "output_type": "stream",
     "text": [
      "\n",
      "Requirement already satisfied: pytz>=2017.3 in c:\\users\\asus\\appdata\\local\\programs\\python\\python310\\lib\\site-packages (from pandas) (2021.3)\n",
      "Requirement already satisfied: python-dateutil>=2.7.3 in c:\\users\\asus\\appdata\\local\\programs\\python\\python310\\lib\\site-packages (from pandas) (2.8.2)\n",
      "Requirement already satisfied: numpy>=1.21.0 in c:\\users\\asus\\appdata\\local\\programs\\python\\python310\\lib\\site-packages (from pandas) (1.21.4)\n",
      "Requirement already satisfied: six>=1.5 in c:\\users\\asus\\appdata\\local\\programs\\python\\python310\\lib\\site-packages (from python-dateutil>=2.7.3->pandas) (1.16.0)\n"
     ]
    }
   ],
   "source": [
    "pip install pandas"
   ]
  },
  {
   "cell_type": "code",
   "execution_count": 17,
   "id": "f243dacd",
   "metadata": {},
   "outputs": [],
   "source": [
    "df.to_csv(\"csvfile\")"
   ]
  },
  {
   "cell_type": "code",
   "execution_count": 46,
   "id": "f2797677",
   "metadata": {},
   "outputs": [
    {
     "data": {
      "text/html": [
       "<div>\n",
       "<style scoped>\n",
       "    .dataframe tbody tr th:only-of-type {\n",
       "        vertical-align: middle;\n",
       "    }\n",
       "\n",
       "    .dataframe tbody tr th {\n",
       "        vertical-align: top;\n",
       "    }\n",
       "\n",
       "    .dataframe thead th {\n",
       "        text-align: right;\n",
       "    }\n",
       "</style>\n",
       "<table border=\"1\" class=\"dataframe\">\n",
       "  <thead>\n",
       "    <tr style=\"text-align: right;\">\n",
       "      <th></th>\n",
       "      <th>stats</th>\n",
       "      <th>classmate2</th>\n",
       "      <th>classmate3</th>\n",
       "      <th>classmate4</th>\n",
       "      <th>somebody</th>\n",
       "    </tr>\n",
       "  </thead>\n",
       "  <tbody>\n",
       "    <tr>\n",
       "      <th>0</th>\n",
       "      <td>strength</td>\n",
       "      <td>66</td>\n",
       "      <td>85</td>\n",
       "      <td>1</td>\n",
       "      <td>50</td>\n",
       "    </tr>\n",
       "    <tr>\n",
       "      <th>1</th>\n",
       "      <td>speed</td>\n",
       "      <td>23</td>\n",
       "      <td>60</td>\n",
       "      <td>99</td>\n",
       "      <td>1</td>\n",
       "    </tr>\n",
       "    <tr>\n",
       "      <th>2</th>\n",
       "      <td>height</td>\n",
       "      <td>50</td>\n",
       "      <td>99</td>\n",
       "      <td>99</td>\n",
       "      <td>56</td>\n",
       "    </tr>\n",
       "  </tbody>\n",
       "</table>\n",
       "</div>"
      ],
      "text/plain": [
       "      stats  classmate2  classmate3  classmate4  somebody\n",
       "0  strength          66          85           1        50\n",
       "1     speed          23          60          99         1\n",
       "2    height          50          99          99        56"
      ]
     },
     "execution_count": 46,
     "metadata": {},
     "output_type": "execute_result"
    }
   ],
   "source": [
    "df\n"
   ]
  },
  {
   "cell_type": "code",
   "execution_count": null,
   "id": "d8198602",
   "metadata": {},
   "outputs": [],
   "source": []
  }
 ],
 "metadata": {
  "kernelspec": {
   "display_name": "Python 3(ipykernel)",
   "language": "python",
   "name": "python3"
  },
  "language_info": {
   "codemirror_mode": {
    "name": "ipython",
    "version": 3
   },
   "file_extension": ".py",
   "mimetype": "text/x-python",
   "name": "python",
   "nbconvert_exporter": "python",
   "pygments_lexer": "ipython3",
   "version": "3.10.1"
  }
 },
 "nbformat": 4,
 "nbformat_minor": 5
}
